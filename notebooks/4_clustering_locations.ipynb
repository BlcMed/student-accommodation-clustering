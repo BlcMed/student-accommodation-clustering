{
 "cells": [
  {
   "cell_type": "markdown",
   "metadata": {},
   "source": [
    "## Clustering Locations"
   ]
  },
  {
   "cell_type": "markdown",
   "metadata": {},
   "source": [
    "Import libraries"
   ]
  },
  {
   "cell_type": "code",
   "execution_count": 2,
   "metadata": {},
   "outputs": [],
   "source": [
    "import numpy as np\n",
    "import pandas as pd\n",
    "import matplotlib.pyplot as plt\n",
    "from sklearn.cluster import KMeans\n",
    "from sklearn.decomposition import PCA\n",
    "from sklearn.preprocessing import StandardScaler"
   ]
  },
  {
   "cell_type": "markdown",
   "metadata": {},
   "source": [
    "Load data"
   ]
  },
  {
   "cell_type": "code",
   "execution_count": 3,
   "metadata": {},
   "outputs": [
    {
     "name": "stdout",
     "output_type": "stream",
     "text": [
      "<class 'pandas.core.frame.DataFrame'>\n",
      "RangeIndex: 50 entries, 0 to 49\n",
      "Data columns (total 9 columns):\n",
      " #   Column       Non-Null Count  Dtype  \n",
      "---  ------       --------------  -----  \n",
      " 0   latitude     50 non-null     float64\n",
      " 1   longitude    50 non-null     float64\n",
      " 2   fsq_id       50 non-null     object \n",
      " 3   address      50 non-null     object \n",
      " 4   country      50 non-null     object \n",
      " 5   postal_code  50 non-null     object \n",
      " 6   region       50 non-null     object \n",
      " 7   restaurants  50 non-null     int64  \n",
      " 8   groceries    50 non-null     int64  \n",
      "dtypes: float64(2), int64(2), object(5)\n",
      "memory usage: 3.6+ KB\n"
     ]
    }
   ],
   "source": [
    "df_venues = pd.read_csv('../data/processed/venues.csv')\n",
    "df_venues.info()"
   ]
  },
  {
   "cell_type": "markdown",
   "metadata": {},
   "source": [
    "Clustering residentials"
   ]
  },
  {
   "cell_type": "code",
   "execution_count": 4,
   "metadata": {},
   "outputs": [
    {
     "data": {
      "text/html": [
       "<div>\n",
       "<style scoped>\n",
       "    .dataframe tbody tr th:only-of-type {\n",
       "        vertical-align: middle;\n",
       "    }\n",
       "\n",
       "    .dataframe tbody tr th {\n",
       "        vertical-align: top;\n",
       "    }\n",
       "\n",
       "    .dataframe thead th {\n",
       "        text-align: right;\n",
       "    }\n",
       "</style>\n",
       "<table border=\"1\" class=\"dataframe\">\n",
       "  <thead>\n",
       "    <tr style=\"text-align: right;\">\n",
       "      <th></th>\n",
       "      <th>latitude</th>\n",
       "      <th>longitude</th>\n",
       "      <th>fsq_id</th>\n",
       "      <th>address</th>\n",
       "      <th>country</th>\n",
       "      <th>postal_code</th>\n",
       "      <th>region</th>\n",
       "      <th>restaurants</th>\n",
       "      <th>groceries</th>\n",
       "      <th>cluster</th>\n",
       "    </tr>\n",
       "  </thead>\n",
       "  <tbody>\n",
       "    <tr>\n",
       "      <th>0</th>\n",
       "      <td>42.123440</td>\n",
       "      <td>-80.077909</td>\n",
       "      <td>4f2293846d867182dff007d9</td>\n",
       "      <td>153 E 13th St</td>\n",
       "      <td>US</td>\n",
       "      <td>16503</td>\n",
       "      <td>PA</td>\n",
       "      <td>42</td>\n",
       "      <td>6</td>\n",
       "      <td>2</td>\n",
       "    </tr>\n",
       "    <tr>\n",
       "      <th>1</th>\n",
       "      <td>42.126495</td>\n",
       "      <td>-80.087438</td>\n",
       "      <td>4ef9be2cc512f2277a8b55f8</td>\n",
       "      <td>160 W 8th St</td>\n",
       "      <td>US</td>\n",
       "      <td>16501</td>\n",
       "      <td>PA</td>\n",
       "      <td>50</td>\n",
       "      <td>5</td>\n",
       "      <td>2</td>\n",
       "    </tr>\n",
       "    <tr>\n",
       "      <th>2</th>\n",
       "      <td>42.067218</td>\n",
       "      <td>-80.089730</td>\n",
       "      <td>4bf522b498ac0f47fbb564a8</td>\n",
       "      <td>1717 Kuntz Rd</td>\n",
       "      <td>US</td>\n",
       "      <td>16509</td>\n",
       "      <td>PA</td>\n",
       "      <td>26</td>\n",
       "      <td>3</td>\n",
       "      <td>1</td>\n",
       "    </tr>\n",
       "    <tr>\n",
       "      <th>3</th>\n",
       "      <td>42.109142</td>\n",
       "      <td>-79.287287</td>\n",
       "      <td>5143ddc752cd4de5f8eecdec</td>\n",
       "      <td>75 Marine Park Dr</td>\n",
       "      <td>US</td>\n",
       "      <td>14720</td>\n",
       "      <td>NY</td>\n",
       "      <td>1</td>\n",
       "      <td>0</td>\n",
       "      <td>0</td>\n",
       "    </tr>\n",
       "    <tr>\n",
       "      <th>4</th>\n",
       "      <td>42.085702</td>\n",
       "      <td>-79.271966</td>\n",
       "      <td>b302604f64284ae1bfb58478</td>\n",
       "      <td>329 Howard Ave</td>\n",
       "      <td>US</td>\n",
       "      <td>14701</td>\n",
       "      <td>NY</td>\n",
       "      <td>0</td>\n",
       "      <td>0</td>\n",
       "      <td>0</td>\n",
       "    </tr>\n",
       "  </tbody>\n",
       "</table>\n",
       "</div>"
      ],
      "text/plain": [
       "    latitude  longitude                    fsq_id            address country  \\\n",
       "0  42.123440 -80.077909  4f2293846d867182dff007d9      153 E 13th St      US   \n",
       "1  42.126495 -80.087438  4ef9be2cc512f2277a8b55f8       160 W 8th St      US   \n",
       "2  42.067218 -80.089730  4bf522b498ac0f47fbb564a8      1717 Kuntz Rd      US   \n",
       "3  42.109142 -79.287287  5143ddc752cd4de5f8eecdec  75 Marine Park Dr      US   \n",
       "4  42.085702 -79.271966  b302604f64284ae1bfb58478     329 Howard Ave      US   \n",
       "\n",
       "  postal_code region  restaurants  groceries  cluster  \n",
       "0       16503     PA           42          6        2  \n",
       "1       16501     PA           50          5        2  \n",
       "2       16509     PA           26          3        1  \n",
       "3       14720     NY            1          0        0  \n",
       "4       14701     NY            0          0        0  "
      ]
     },
     "execution_count": 4,
     "metadata": {},
     "output_type": "execute_result"
    }
   ],
   "source": [
    "filtering_labels = ['restaurants','groceries']\n",
    "df_venues_filtered = df_venues[filtering_labels]\n",
    "\n",
    "#scale the data first\n",
    "scaler = StandardScaler()\n",
    "df_venues_filtered = scaler.fit_transform(df_venues_filtered)\n",
    "#run k-means clustering on df_venues_filtered\n",
    "kmeans = KMeans(n_clusters=3, random_state=42).fit(df_venues_filtered)\n",
    "df_venues['cluster'] = kmeans.labels_\n",
    "df_venues.head()"
   ]
  },
  {
   "cell_type": "code",
   "execution_count": 5,
   "metadata": {},
   "outputs": [
    {
     "data": {
      "text/plain": [
       "cluster\n",
       "0    27\n",
       "1    21\n",
       "2     2\n",
       "Name: count, dtype: int64"
      ]
     },
     "execution_count": 5,
     "metadata": {},
     "output_type": "execute_result"
    }
   ],
   "source": [
    "#count the number of venues in each cluster\n",
    "df_venues['cluster'].value_counts()"
   ]
  },
  {
   "cell_type": "code",
   "execution_count": 6,
   "metadata": {},
   "outputs": [
    {
     "data": {
      "text/html": [
       "<div>\n",
       "<style scoped>\n",
       "    .dataframe tbody tr th:only-of-type {\n",
       "        vertical-align: middle;\n",
       "    }\n",
       "\n",
       "    .dataframe tbody tr th {\n",
       "        vertical-align: top;\n",
       "    }\n",
       "\n",
       "    .dataframe thead th {\n",
       "        text-align: right;\n",
       "    }\n",
       "</style>\n",
       "<table border=\"1\" class=\"dataframe\">\n",
       "  <thead>\n",
       "    <tr style=\"text-align: right;\">\n",
       "      <th></th>\n",
       "      <th>restaurants</th>\n",
       "      <th>groceries</th>\n",
       "    </tr>\n",
       "    <tr>\n",
       "      <th>cluster</th>\n",
       "      <th></th>\n",
       "      <th></th>\n",
       "    </tr>\n",
       "  </thead>\n",
       "  <tbody>\n",
       "    <tr>\n",
       "      <th>0</th>\n",
       "      <td>45</td>\n",
       "      <td>6</td>\n",
       "    </tr>\n",
       "    <tr>\n",
       "      <th>1</th>\n",
       "      <td>336</td>\n",
       "      <td>38</td>\n",
       "    </tr>\n",
       "    <tr>\n",
       "      <th>2</th>\n",
       "      <td>92</td>\n",
       "      <td>11</td>\n",
       "    </tr>\n",
       "  </tbody>\n",
       "</table>\n",
       "</div>"
      ],
      "text/plain": [
       "         restaurants  groceries\n",
       "cluster                        \n",
       "0                 45          6\n",
       "1                336         38\n",
       "2                 92         11"
      ]
     },
     "execution_count": 6,
     "metadata": {},
     "output_type": "execute_result"
    }
   ],
   "source": [
    "#count restaurants and groceries in each cluster\n",
    "df_venues.groupby('cluster').sum()[['restaurants', 'groceries']]"
   ]
  },
  {
   "cell_type": "markdown",
   "metadata": {},
   "source": [
    "We can infer that cluster 1 represents students who dine out frequently, whereas cluster 2 comprises students who exhibit the opposite behavior. Cluster 0, on the other hand, lies somewhere in between these two extremes."
   ]
  },
  {
   "cell_type": "code",
   "execution_count": 7,
   "metadata": {},
   "outputs": [],
   "source": [
    "clusters_dict={0:'Moderate dining', 1:'Frequent dining', 2:'Minimal dining'}\n",
    "#add cluster names to the dataframe\n",
    "df_venues['recomended for'] = df_venues['cluster'].map(clusters_dict)"
   ]
  },
  {
   "cell_type": "code",
   "execution_count": 8,
   "metadata": {},
   "outputs": [],
   "source": [
    "#save the cluster to a csv file\n",
    "df_venues.to_csv('../data/processed/venues_with_clusters.csv', index=False)"
   ]
  }
 ],
 "metadata": {
  "kernelspec": {
   "display_name": "venv",
   "language": "python",
   "name": "python3"
  },
  "language_info": {
   "codemirror_mode": {
    "name": "ipython",
    "version": 3
   },
   "file_extension": ".py",
   "mimetype": "text/x-python",
   "name": "python",
   "nbconvert_exporter": "python",
   "pygments_lexer": "ipython3",
   "version": "3.9.7"
  }
 },
 "nbformat": 4,
 "nbformat_minor": 2
}
